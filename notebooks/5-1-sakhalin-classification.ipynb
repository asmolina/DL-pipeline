{
 "cells": [
  {
   "cell_type": "code",
   "execution_count": 1,
   "id": "8443f7e0-58fd-40a3-8b8e-a91fb735de17",
   "metadata": {
    "tags": []
   },
   "outputs": [],
   "source": [
    "%matplotlib inline\n",
    "%reload_ext autoreload\n",
    "%autoreload 2"
   ]
  },
  {
   "cell_type": "code",
   "execution_count": null,
   "id": "26681d48-49c3-4f0a-89af-f96090cffa61",
   "metadata": {},
   "outputs": [],
   "source": []
  },
  {
   "cell_type": "code",
   "execution_count": null,
   "id": "a88b5009-585e-42f1-9a22-10927e1d7479",
   "metadata": {},
   "outputs": [],
   "source": []
  },
  {
   "cell_type": "code",
   "execution_count": 2,
   "id": "64688ad1-849c-4ce9-801d-b341ff520603",
   "metadata": {
    "tags": []
   },
   "outputs": [],
   "source": [
    "from eolearn.core import (\n",
    "    AddFeatureTask,\n",
    "    EONode,\n",
    "    EOPatch,\n",
    "    EOTask,\n",
    "    EOWorkflow,\n",
    "    FeatureType,\n",
    "    LoadTask,\n",
    "    OverwritePermission,\n",
    "    SaveTask,\n",
    ")"
   ]
  },
  {
   "cell_type": "code",
   "execution_count": 3,
   "id": "1b57860e-aea7-4454-b891-f5f8f6358662",
   "metadata": {
    "tags": []
   },
   "outputs": [],
   "source": [
    "import datetime\n",
    "import os\n",
    "import matplotlib.pyplot as plt\n",
    "import numpy as np\n",
    "from shapely.geometry import Polygon"
   ]
  },
  {
   "cell_type": "code",
   "execution_count": 4,
   "id": "ce7738b4-15c3-4b94-931e-f0a31c4b70a6",
   "metadata": {
    "tags": []
   },
   "outputs": [],
   "source": [
    "from pathlib import Path\n",
    "import sys\n",
    "\n",
    "SCRIPT_DIR = Path('/home/alina.smolina/eolearn-pipeline/src')\n",
    "sys.path.append(str(SCRIPT_DIR))\n",
    "SCRIPT_DIR = Path('/home/alina.smolina/DL-pipeline/src')\n",
    "sys.path.append(str(SCRIPT_DIR))"
   ]
  },
  {
   "cell_type": "code",
   "execution_count": 5,
   "id": "e4c5fff6-7295-430a-9bc3-2100d6b10638",
   "metadata": {
    "tags": []
   },
   "outputs": [],
   "source": [
    "eopatches_dir = '/beegfs/home/alina.smolina/data/sakhalin/images/EOPatches/train_2560_K_N_v2/'\n",
    "num_ids_train = 598\n",
    "\n",
    "\n",
    "eopatches_dir_test = '/beegfs/home/alina.smolina/data/sakhalin/images/EOPatches/test_2560_Nevelsk_v2/'\n",
    "num_ids_test = 44"
   ]
  },
  {
   "cell_type": "markdown",
   "id": "e1f50a1f-1cd4-4ed9-81ca-80d29684aedb",
   "metadata": {
    "jp-MarkdownHeadingCollapsed": true,
    "tags": []
   },
   "source": [
    "## Preparing dataloader"
   ]
  },
  {
   "cell_type": "code",
   "execution_count": null,
   "id": "c211b8f8-14d7-498c-afd6-252994f5d879",
   "metadata": {},
   "outputs": [],
   "source": []
  },
  {
   "cell_type": "code",
   "execution_count": 9,
   "id": "e1efa442-8e8f-4b2b-98e0-e500e0f644e2",
   "metadata": {
    "tags": []
   },
   "outputs": [],
   "source": [
    "eopatch = EOPatch.load(f'{eopatches_dir}eopatch_20', lazy_loading=True)"
   ]
  },
  {
   "cell_type": "code",
   "execution_count": 10,
   "id": "162afeab-efa5-42b7-b8d9-020370c86454",
   "metadata": {
    "tags": []
   },
   "outputs": [
    {
     "data": {
      "text/plain": [
       "EOPatch(\n",
       "  bbox=BBox(((637440.0, 5178880.0), (640000.0, 5181440.0)), crs=CRS('32654'))\n",
       "  timestamps=[2018-03-14 01:26:50, ...]<length=8>\n",
       "  data={\n",
       "    10BANDS: FeatureIONumpy(/data/10BANDS.npy.gz)\n",
       "    BANDS: FeatureIONumpy(/data/BANDS.npy.gz)\n",
       "    CLP: FeatureIONumpy(/data/CLP.npy.gz)\n",
       "  }\n",
       "  mask_timeless={\n",
       "    2_GROUPS: FeatureIONumpy(/mask_timeless/2_GROUPS.npy.gz)\n",
       "  }\n",
       "  mask={\n",
       "    CLM: FeatureIONumpy(/mask/CLM.npy.gz)\n",
       "    IS_DATA: FeatureIONumpy(/mask/IS_DATA.npy.gz)\n",
       "    SCL: FeatureIONumpy(/mask/SCL.npy.gz)\n",
       "  }\n",
       "  vector_timeless={\n",
       "    5-2groups-32654: FeatureIOGeoDf(/vector_timeless/5-2groups-32654.gpkg.gz)\n",
       "  }\n",
       "  scalar={\n",
       "    COVERAGE: FeatureIONumpy(/scalar/COVERAGE.npy.gz)\n",
       "  }\n",
       ")"
      ]
     },
     "execution_count": 10,
     "metadata": {},
     "output_type": "execute_result"
    }
   ],
   "source": [
    "eopatch"
   ]
  },
  {
   "cell_type": "code",
   "execution_count": 34,
   "id": "662708e7-ed56-4650-8bfa-54f27b92bac3",
   "metadata": {
    "tags": []
   },
   "outputs": [],
   "source": []
  },
  {
   "cell_type": "markdown",
   "id": "43125d08-15f7-4117-821f-f36b000fe1d8",
   "metadata": {},
   "source": [
    "## Model"
   ]
  },
  {
   "cell_type": "code",
   "execution_count": null,
   "id": "3972964a-54ef-4b8d-9c17-fa2875af2a8e",
   "metadata": {},
   "outputs": [],
   "source": []
  },
  {
   "cell_type": "code",
   "execution_count": 6,
   "id": "b249ceb9-d0c1-44a6-962a-d16c19047513",
   "metadata": {},
   "outputs": [],
   "source": [
    "from datamodule_eolearn import GeoEOModule\n",
    "\n",
    "import torch\n",
    "torch.set_float32_matmul_precision('high')"
   ]
  },
  {
   "cell_type": "code",
   "execution_count": 7,
   "id": "ecc65ae8-24f7-4b0c-bab4-d8213c0b9bfc",
   "metadata": {
    "tags": []
   },
   "outputs": [],
   "source": [
    "import albumentations as A\n",
    "import albumentations.pytorch as AP\n",
    "\n",
    "transforms = A.Compose([\n",
    "    A.Flip(p=0.3),\n",
    "    A.ShiftScaleRotate(\n",
    "        shift_limit=(-0.0625, 0.0625), \n",
    "        scale_limit=0, #no scale\n",
    "        rotate_limit=(-90, 90), \n",
    "        p=0.5\n",
    "    ),\n",
    "    AP.ToTensorV2(transpose_mask=True),\n",
    "    ],\n",
    ")\n",
    "\n",
    "test_transform = A.Compose([\n",
    "    AP.ToTensorV2(transpose_mask=True),\n",
    "    ],\n",
    ")"
   ]
  },
  {
   "cell_type": "code",
   "execution_count": 8,
   "id": "5d335061-9187-43c7-baa0-412bf14ff091",
   "metadata": {
    "tags": []
   },
   "outputs": [],
   "source": [
    "all_dates = GeoEOModule(\n",
    "    transform = transforms,\n",
    "    test_transform = test_transform,\n",
    "    target_mask_name = 'age_group_code',\n",
    "    train_eopatches_dir = eopatches_dir, \n",
    "    test_eopatches_dir = eopatches_dir_test, \n",
    "    predict_eopatches_dir = eopatches_dir_test, \n",
    "    train_eopatches_ids = [x for x in range(num_ids_train)],\n",
    "    test_eopatches_ids = [x for x in range(num_ids_test)],\n",
    "    predict_eopatches_ids = [x for x in range(num_ids_test)], \n",
    "    train_date_range = ['2018-01-01', '2018-12-31'],\n",
    "    test_date_range = ['2018-01-01', '2018-12-31'],\n",
    "    predict_date_range = ['2018-01-01', '2018-12-31'],\n",
    "    batch_size = 128,\n",
    "    num_workers = 24,\n",
    ")"
   ]
  },
  {
   "cell_type": "code",
   "execution_count": 9,
   "id": "84a1129d-5835-4b70-9acc-df0eb56d97a4",
   "metadata": {},
   "outputs": [
    {
     "data": {
      "text/plain": [
       "597"
      ]
     },
     "execution_count": 9,
     "metadata": {},
     "output_type": "execute_result"
    }
   ],
   "source": [
    "max([x for x in range(num_ids_train)])"
   ]
  },
  {
   "cell_type": "code",
   "execution_count": 12,
   "id": "0a8dbbb7-b6f4-495d-bdbd-341b688b259b",
   "metadata": {
    "tags": []
   },
   "outputs": [
    {
     "name": "stderr",
     "output_type": "stream",
     "text": [
      "GPU available: False, used: False\n",
      "TPU available: False, using: 0 TPU cores\n",
      "IPU available: False, using: 0 IPUs\n",
      "HPU available: False, using: 0 HPUs\n"
     ]
    },
    {
     "name": "stdout",
     "output_type": "stream",
     "text": [
      "🤖: Look at https://wandb.ai/nali/dl-pipeline-sakhalin/runs/f44x5t0c\n",
      "🤖: Setup data...\n",
      "🤖: Fit stage.\n",
      "🤖: Collecting all the time indices... "
     ]
    },
    {
     "name": "stderr",
     "output_type": "stream",
     "text": [
      "/trinity/home/alina.smolina/.conda/envs/geotorch/lib/python3.10/site-packages/pytorch_lightning/trainer/call.py:53: UserWarning: Detected KeyboardInterrupt, attempting graceful shutdown...\n",
      "  rank_zero_warn(\"Detected KeyboardInterrupt, attempting graceful shutdown...\")\n"
     ]
    }
   ],
   "source": [
    "import wandb\n",
    "import pytorch_lightning as pl\n",
    "from module import SegModule\n",
    "from pytorch_lightning.loggers import WandbLogger\n",
    "from pytorch_lightning.callbacks import LearningRateMonitor\n",
    "\n",
    "WANDB__SERVICE_WAIT=300\n",
    "wandb_logger = WandbLogger(project='dl-pipeline-sakhalin', log_model=True)\n",
    "print(f'🤖: Look at {wandb.run.url}')\n",
    "\n",
    "\n",
    "lr_monitor_callback = LearningRateMonitor(logging_interval='step')\n",
    "\n",
    "\n",
    "checkpoint_callback = pl.callbacks.ModelCheckpoint(\n",
    "    dirpath=f'../weights/group-agegroup-sakhalin/{wandb.run.name}/',\n",
    "    filename='{epoch}-{val_loss:.4f}', \n",
    "    monitor='val/mean_acc',\n",
    "    mode='max',\n",
    "    save_top_k=1\n",
    ")\n",
    "\n",
    "                   \n",
    "trainer = pl.Trainer(\n",
    "    max_epochs=300, \n",
    "    benchmark=True, \n",
    "    check_val_every_n_epoch=10, \n",
    "    logger=wandb_logger, \n",
    "    callbacks=[\n",
    "        checkpoint_callback,\n",
    "        lr_monitor_callback,\n",
    "              ],\n",
    ")\n",
    "\n",
    "model = SegModule(\n",
    "    optimizer='Adam', \n",
    "    scheduler='StepLR',\n",
    "    step_size=50,\n",
    "    gamma=0.1,\n",
    "    lr=6e-3,\n",
    "    in_channels=10,\n",
    "    ignore_index=255,\n",
    "    min_channels = 16,\n",
    "    max_channels = 512,\n",
    "    num_down_blocks = 5,\n",
    "    # num_classes=2, \n",
    "    # class_labels_dict={0: 'лиственные', 1: 'хвойные', 255:'нет_данных'},\n",
    "    # labels_to_calc_metric=['лиственные', 'хвойные'],\n",
    "    # possible_classes=[0, 1]\n",
    "    num_classes=5, \n",
    "    class_labels_dict={0: 'молодняки' ,\n",
    "                       1: 'приспевающие',\n",
    "                       2: 'средневозрастные',\n",
    "                       3: 'спелые',\n",
    "                       4: 'перестойные',\n",
    "                       255:'нет_данных'},\n",
    "    labels_to_calc_metric=['молодняки', 'приспевающие', 'средневозрастные', 'спелые', 'перестойные'],\n",
    "    possible_classes=[0, 1, 2, 3, 4]\n",
    ")\n",
    "\n",
    "trainer.fit(model, all_dates) "
   ]
  },
  {
   "cell_type": "code",
   "execution_count": null,
   "id": "6639d7a3-cac3-4b2d-a7d0-372a7e456b2c",
   "metadata": {},
   "outputs": [
    {
     "name": "stderr",
     "output_type": "stream",
     "text": [
      "/trinity/home/alina.smolina/.conda/envs/geotorch/lib/python3.10/site-packages/lightning_fabric/plugins/environments/slurm.py:168: PossibleUserWarning: The `srun` command is available on your system but is not used. HINT: If your intention is to run Lightning on SLURM, prepend your python command with `srun` like so: srun python /trinity/home/alina.smolina/.conda/envs/geotorch/lib ...\n",
      "  rank_zero_warn(\n"
     ]
    },
    {
     "name": "stdout",
     "output_type": "stream",
     "text": [
      "🤖: Setup data...\n",
      "🤖: Collecting all the time indices... Done.\n",
      "🤖: Generating mapping: idx -> (patch_id, time_id)... Elapsed time: 0.67 min\n",
      "Done.\n",
      "🤖: Loading all the patches and time frames into the memory... "
     ]
    },
    {
     "name": "stderr",
     "output_type": "stream",
     "text": [
      "LOCAL_RANK: 0 - CUDA_VISIBLE_DEVICES: [0]\n"
     ]
    },
    {
     "name": "stdout",
     "output_type": "stream",
     "text": [
      "Done.\n",
      "Elapsed time: 4.51 min 🤖: Test stage.\n",
      "🤖: Test frames >>> 787\n",
      "🤖: #iterations in test dataloader: 7\n"
     ]
    },
    {
     "data": {
      "application/vnd.jupyter.widget-view+json": {
       "model_id": "95b047cb85a54b66beda3d60dc979e31",
       "version_major": 2,
       "version_minor": 0
      },
      "text/plain": [
       "Testing: 0it [00:00, ?it/s]"
      ]
     },
     "metadata": {},
     "output_type": "display_data"
    }
   ],
   "source": [
    "trainer.test(model, all_dates)"
   ]
  },
  {
   "cell_type": "code",
   "execution_count": null,
   "id": "5832ee5f-8f53-47e0-ab95-ba8acb5a23a6",
   "metadata": {},
   "outputs": [],
   "source": []
  },
  {
   "cell_type": "code",
   "execution_count": null,
   "id": "4374dba3-bf6a-46f5-9ee2-4f7f0022a0ed",
   "metadata": {},
   "outputs": [],
   "source": [
    "[0, 2, 8, 12]"
   ]
  },
  {
   "cell_type": "code",
   "execution_count": 9,
   "id": "bc42f4f5-6b1e-43df-b44f-ee0934d29eb6",
   "metadata": {},
   "outputs": [],
   "source": [
    "cumsum = [0, 2, 8, 12]\n",
    "def get_patch_index(idx): # get patch index\n",
    "        left, right = 0, len(cumsum) - 1\n",
    "        while left < right:\n",
    "            middle = (left + right + 1) // 2\n",
    "            if cumsum[middle] > idx:\n",
    "                right = middle - 1\n",
    "            else:\n",
    "                left = middle\n",
    "        return left"
   ]
  },
  {
   "cell_type": "code",
   "execution_count": null,
   "id": "60e70ff7-bb50-47d7-809e-a3821549134d",
   "metadata": {},
   "outputs": [],
   "source": [
    "#\n",
    "patch_0 : [date_0, date_1]\n",
    "patch_1 : [date_0, date_1, date_2, ..., date_5]\n",
    "pat"
   ]
  },
  {
   "cell_type": "code",
   "execution_count": 42,
   "id": "1ddf1d87-b31a-48c6-a838-1797c926b871",
   "metadata": {
    "tags": []
   },
   "outputs": [
    {
     "data": {
      "text/plain": [
       "(2, 0)"
      ]
     },
     "execution_count": 42,
     "metadata": {},
     "output_type": "execute_result"
    }
   ],
   "source": [
    "idx = \n",
    "patch_id = get_patch_index(idx)\n",
    "patch_id, idx - cumsum[patch_id]"
   ]
  },
  {
   "cell_type": "markdown",
   "id": "dd86af3f-8ec2-4ade-ba49-ad9b2ec74548",
   "metadata": {
    "jp-MarkdownHeadingCollapsed": true,
    "tags": []
   },
   "source": [
    "# debug"
   ]
  },
  {
   "cell_type": "code",
   "execution_count": 55,
   "id": "e161e91c-c083-4ecb-a73d-302b5d43e637",
   "metadata": {},
   "outputs": [
    {
     "name": "stdout",
     "output_type": "stream",
     "text": [
      "🤖: Setup data...\n",
      "🤖: Fit stage.\n",
      "🤖: Collecting all time indices... Done.\n",
      "🤖: Generating mapping: idx -> (patch_id, time_id)... Done.\n",
      "🤖: Fit stage.\n",
      "🤖: Fit frames >>> 1485\n",
      "🤖: Val frames >>> 371\n",
      "🤖: Total >>>>>>>> 1856\n",
      "🤖: #iterations in train dataloader: 62\n",
      "3\n",
      "torch.Size([24, 10, 256, 256])\n",
      "torch.Size([24, 256, 256])\n",
      "CPU times: user 22.7 s, sys: 1.93 s, total: 24.7 s\n",
      "Wall time: 4min 34s\n"
     ]
    },
    {
     "name": "stderr",
     "output_type": "stream",
     "text": [
      "[rank: 0] Received SIGTERM: 15\n",
      "[rank: 0] Received SIGTERM: 15\n",
      "[rank: 0] Received SIGTERM: 15\n",
      "[rank: 0] Received SIGTERM: 15\n",
      "[rank: 0] Received SIGTERM: 15\n",
      "[rank: 0] Received SIGTERM: 15\n"
     ]
    }
   ],
   "source": [
    "%%time\n",
    "uniq_vals = []\n",
    "# # for item in eo_ds:\n",
    "all_dates.setup(stage='fit')\n",
    "for item in all_dates.train_dataloader():\n",
    "    print(len(item))\n",
    "    print(item[0].shape)\n",
    "    print(item[1].shape)\n",
    "    uniq_vals.append(torch.unique(item[-1]).numpy())\n",
    "    break"
   ]
  },
  {
   "cell_type": "code",
   "execution_count": 53,
   "id": "0c1f95f8-d6f9-404f-bd20-8400b86fb409",
   "metadata": {
    "tags": []
   },
   "outputs": [
    {
     "name": "stdout",
     "output_type": "stream",
     "text": [
      "🤖: Setup data...\n",
      "🤖: Fit stage.\n",
      "🤖: Collecting all time indices... Done.\n",
      "🤖: Generating mapping: idx -> (patch_id, time_id)... Done.\n",
      "🤖: Fit stage.\n",
      "🤖: Fit frames >>> 1485\n",
      "🤖: Val frames >>> 371\n",
      "🤖: Total >>>>>>>> 1856\n",
      "🤖: #iterations in train dataloader: 62\n",
      "3\n",
      "torch.Size([24, 10, 256, 256])\n",
      "torch.Size([24, 256, 256])\n",
      "CPU times: user 22.7 s, sys: 1.03 s, total: 23.8 s\n",
      "Wall time: 37.3 s\n"
     ]
    }
   ],
   "source": [
    "%%time\n",
    "uniq_vals = []\n",
    "# # for item in eo_ds:\n",
    "all_dates.setup(stage='fit')\n",
    "for item in all_dates.train_dataloader():\n",
    "    print(len(item))\n",
    "    print(item[0].shape)\n",
    "    print(item[1].shape)\n",
    "    uniq_vals.append(torch.unique(item[-1]).numpy())\n",
    "    break"
   ]
  },
  {
   "cell_type": "code",
   "execution_count": null,
   "id": "9770df47-0fdd-4c31-bc05-7ce6d95098a8",
   "metadata": {},
   "outputs": [],
   "source": [
    "uniq_vals"
   ]
  },
  {
   "cell_type": "code",
   "execution_count": 20,
   "id": "477ac483-14a8-481f-ae9f-0d3bb24c333a",
   "metadata": {
    "tags": []
   },
   "outputs": [
    {
     "name": "stdout",
     "output_type": "stream",
     "text": [
      "🤖: Collecting all time indices...\n",
      "🤖: Done.\n"
     ]
    }
   ],
   "source": [
    "from datamodule_eolearn import EOLearnDataset\n",
    "\n",
    "eo_ds = EOLearnDataset(\n",
    "    transform = transforms,\n",
    "    eopatches_dir = eopatches_dir,\n",
    "    eopatches_ids = [x for x in range(69, 106)],\n",
    "    date_range = ['2018-01-01', '2018-12-31'],\n",
    "    target_mask_name = 'PREVAIL_GROUP_2',\n",
    "    demand_target = True,\n",
    ")"
   ]
  },
  {
   "cell_type": "code",
   "execution_count": 25,
   "id": "c6c3c59e-c3df-487a-9856-4eaf532ae769",
   "metadata": {
    "tags": []
   },
   "outputs": [
    {
     "name": "stdout",
     "output_type": "stream",
     "text": [
      "3\n",
      "torch.Size([10, 256, 256])\n",
      "torch.Size([256, 256])\n"
     ]
    }
   ],
   "source": [
    "for item in eo_ds:\n",
    "    print(len(item))\n",
    "    print(item[0].shape)\n",
    "    print(item[1].shape)\n",
    "    break"
   ]
  },
  {
   "cell_type": "code",
   "execution_count": null,
   "id": "cc4e3070-94b5-4e03-a6ea-d219bb37ae69",
   "metadata": {},
   "outputs": [],
   "source": []
  }
 ],
 "metadata": {
  "kernelspec": {
   "display_name": "Python 3 (ipykernel)",
   "language": "python",
   "name": "python3"
  },
  "language_info": {
   "codemirror_mode": {
    "name": "ipython",
    "version": 3
   },
   "file_extension": ".py",
   "mimetype": "text/x-python",
   "name": "python",
   "nbconvert_exporter": "python",
   "pygments_lexer": "ipython3",
   "version": "3.10.13"
  }
 },
 "nbformat": 4,
 "nbformat_minor": 5
}
