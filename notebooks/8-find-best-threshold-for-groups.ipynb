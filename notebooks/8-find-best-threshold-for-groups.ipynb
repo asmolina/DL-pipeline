{
 "cells": [
  {
   "cell_type": "code",
   "execution_count": 3,
   "id": "f389f1b2-0f80-471f-bd51-efdd862a27fc",
   "metadata": {},
   "outputs": [],
   "source": [
    "%matplotlib inline\n",
    "%reload_ext autoreload\n",
    "%autoreload 2"
   ]
  },
  {
   "cell_type": "code",
   "execution_count": 4,
   "id": "36ba2716-393c-47dd-bb36-ef3628f47bc1",
   "metadata": {},
   "outputs": [],
   "source": [
    "import datetime\n",
    "import os\n",
    "from pathlib import Path\n",
    "\n",
    "import matplotlib.pyplot as plt\n",
    "import numpy as np\n",
    "from shapely.geometry import Polygon"
   ]
  },
  {
   "cell_type": "code",
   "execution_count": 5,
   "id": "0478ac46-a445-455f-aa80-70783ffa0626",
   "metadata": {
    "tags": []
   },
   "outputs": [],
   "source": [
    "from pathlib import Path\n",
    "import torch\n",
    "import sys\n",
    "SCRIPT_DIR = Path('/home/alina.smolina/DL-pipeline/src')\n",
    "sys.path.append(str(SCRIPT_DIR))\n",
    "\n",
    "from module import SegModule\n",
    "model_inference = SegModule.load_from_checkpoint(\n",
    "    # \"/beegfs/home/alina.smolina/DL-pipeline/weights/group-2classes-sakhalin/lucky-mountain-3/epoch=169-val_loss=0.0000.ckpt\",\n",
    "    \"/beegfs/home/alina.smolina/DL-pipeline/weights/group-2groups-sakhalin/glamorous-spaceship-8/epoch=499-val_loss=0.00000.ckpt\",\n",
    ")"
   ]
  },
  {
   "cell_type": "code",
   "execution_count": 6,
   "id": "b249ceb9-d0c1-44a6-962a-d16c19047513",
   "metadata": {},
   "outputs": [],
   "source": [
    "from datamodule_eolearn import GeoEOModule\n",
    "\n",
    "import torch\n",
    "torch.set_float32_matmul_precision('high')"
   ]
  },
  {
   "cell_type": "code",
   "execution_count": 7,
   "id": "ecc65ae8-24f7-4b0c-bab4-d8213c0b9bfc",
   "metadata": {
    "tags": []
   },
   "outputs": [],
   "source": [
    "import albumentations as A\n",
    "import albumentations.pytorch as AP\n",
    "\n",
    "transforms = A.Compose([\n",
    "    A.Flip(p=0.3),\n",
    "    A.ShiftScaleRotate(\n",
    "        shift_limit=(-0.0625, 0.0625), \n",
    "        scale_limit=0, #no scale\n",
    "        rotate_limit=(-90, 90), \n",
    "        p=0.5\n",
    "    ),\n",
    "    AP.ToTensorV2(transpose_mask=True),\n",
    "    ],\n",
    ")\n",
    "\n",
    "test_transform = A.Compose([\n",
    "    AP.ToTensorV2(transpose_mask=True),\n",
    "    ],\n",
    ")"
   ]
  },
  {
   "cell_type": "code",
   "execution_count": null,
   "id": "aa2030df-3204-4a41-872f-c2e673101a7f",
   "metadata": {},
   "outputs": [],
   "source": [
    "import torch\n",
    "from torch.utils.data import DataLoader\n",
    "import torch.nn.functional as F\n",
    "from sklearn.metrics import f1_score\n",
    "import pytorch_lightning as pl\n",
    "from torchmetrics.classification import F1\n",
    "\n",
    "class SegmentationModel(pl.LightningModule):\n",
    "    def __init__(self, model):\n",
    "        super(SegmentationModel, self).__init__()\n",
    "        self.model = model\n",
    "        self.f1_metric = F1(num_classes=2)\n",
    "\n",
    "    def forward(self, x):\n",
    "        return self.model(x)\n",
    "\n",
    "    def training_step(self, batch, batch_idx):\n",
    "        # Your training step logic here\n",
    "        pass\n",
    "\n",
    "    def validation_step(self, batch, batch_idx):\n",
    "        # Your validation step logic here\n",
    "        pass\n",
    "\n",
    "    def configure_optimizers(self):\n",
    "        # Define your optimizer and scheduler here\n",
    "        pass\n",
    "\n",
    "    def threshold_search(self, val_loader):\n",
    "        # Set your model to evaluation mode\n",
    "        self.model.eval()\n",
    "\n",
    "        best_threshold = 0.0\n",
    "        best_f1 = 0.0\n",
    "\n",
    "        with torch.no_grad():\n",
    "            for data in val_loader:\n",
    "                inputs, targets = data\n",
    "                outputs = self.model(inputs)\n",
    "                probs = F.softmax(outputs, dim=1)[:, 1].cpu().numpy()\n",
    "                targets = targets.cpu().numpy()\n",
    "\n",
    "                # Iterate over thresholds and find the one with the highest F1 score\n",
    "                for threshold in range(0, 101):\n",
    "                    threshold /= 100.0\n",
    "                    preds = (probs > threshold).astype(int)\n",
    "                    f1 = f1_score(targets, preds)\n",
    "                    if f1 > best_f1:\n",
    "                        best_f1 = f1\n",
    "                        best_threshold = threshold\n",
    "\n",
    "        print(f\"Best F1: {best_f1}, Best Threshold: {best_threshold}\")\n",
    "        return best_threshold\n",
    "\n",
    "# Example usage\n",
    "model = YourSegmentationModel()  # Replace with your segmentation model\n",
    "segmentation_model = SegmentationModel(model)\n",
    "\n",
    "# Assuming you have a validation DataLoader\n",
    "val_loader = DataLoader(val_dataset, batch_size=batch_size, shuffle=False)\n",
    "best_threshold = segmentation_model.threshold_search(val_loader)\n"
   ]
  }
 ],
 "metadata": {
  "kernelspec": {
   "display_name": "Python 3 (ipykernel)",
   "language": "python",
   "name": "python3"
  },
  "language_info": {
   "codemirror_mode": {
    "name": "ipython",
    "version": 3
   },
   "file_extension": ".py",
   "mimetype": "text/x-python",
   "name": "python",
   "nbconvert_exporter": "python",
   "pygments_lexer": "ipython3",
   "version": "3.10.13"
  }
 },
 "nbformat": 4,
 "nbformat_minor": 5
}
