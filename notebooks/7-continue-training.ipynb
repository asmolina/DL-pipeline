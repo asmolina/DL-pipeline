{
 "cells": [
  {
   "cell_type": "code",
   "execution_count": 1,
   "id": "8443f7e0-58fd-40a3-8b8e-a91fb735de17",
   "metadata": {
    "tags": []
   },
   "outputs": [],
   "source": [
    "%matplotlib inline\n",
    "%reload_ext autoreload\n",
    "%autoreload 2"
   ]
  },
  {
   "cell_type": "code",
   "execution_count": 2,
   "id": "64688ad1-849c-4ce9-801d-b341ff520603",
   "metadata": {
    "tags": []
   },
   "outputs": [],
   "source": [
    "from eolearn.core import (\n",
    "    AddFeatureTask,\n",
    "    EONode,\n",
    "    EOPatch,\n",
    "    EOTask,\n",
    "    EOWorkflow,\n",
    "    FeatureType,\n",
    "    LoadTask,\n",
    "    OverwritePermission,\n",
    "    SaveTask,\n",
    ")"
   ]
  },
  {
   "cell_type": "code",
   "execution_count": 3,
   "id": "1b57860e-aea7-4454-b891-f5f8f6358662",
   "metadata": {
    "tags": []
   },
   "outputs": [],
   "source": [
    "import datetime\n",
    "import os\n",
    "import matplotlib.pyplot as plt\n",
    "import numpy as np\n",
    "from shapely.geometry import Polygon"
   ]
  },
  {
   "cell_type": "code",
   "execution_count": 4,
   "id": "ce7738b4-15c3-4b94-931e-f0a31c4b70a6",
   "metadata": {
    "tags": []
   },
   "outputs": [],
   "source": [
    "from pathlib import Path\n",
    "import sys\n",
    "\n",
    "SCRIPT_DIR = Path('/home/alina.smolina/eolearn-pipeline/src')\n",
    "sys.path.append(str(SCRIPT_DIR))\n",
    "SCRIPT_DIR = Path('/home/alina.smolina/DL-pipeline/src')\n",
    "sys.path.append(str(SCRIPT_DIR))"
   ]
  },
  {
   "cell_type": "code",
   "execution_count": 5,
   "id": "e4c5fff6-7295-430a-9bc3-2100d6b10638",
   "metadata": {
    "tags": []
   },
   "outputs": [],
   "source": [
    "eopatches_dir = '/beegfs/home/alina.smolina/data/sakhalin/images/EOPatches/train_2560_K_N_v2/'\n",
    "num_ids_train = 598\n",
    "\n",
    "\n",
    "eopatches_dir_test = '/beegfs/home/alina.smolina/data/sakhalin/images/EOPatches/test_2560_Nevelsk_v2/'\n",
    "num_ids_test = 44\n",
    "\n",
    "\n",
    "# eopatches_dir_test = '/beegfs/home/alina.smolina/data/sakhalin/images/EOPatches/test_2560_Korsak_v2/'\n",
    "# num_ids_test = 77"
   ]
  },
  {
   "cell_type": "markdown",
   "id": "e1f50a1f-1cd4-4ed9-81ca-80d29684aedb",
   "metadata": {
    "jp-MarkdownHeadingCollapsed": true,
    "tags": []
   },
   "source": [
    "## Preparing dataloader"
   ]
  },
  {
   "cell_type": "code",
   "execution_count": null,
   "id": "c211b8f8-14d7-498c-afd6-252994f5d879",
   "metadata": {},
   "outputs": [],
   "source": []
  },
  {
   "cell_type": "code",
   "execution_count": 9,
   "id": "e1efa442-8e8f-4b2b-98e0-e500e0f644e2",
   "metadata": {
    "tags": []
   },
   "outputs": [],
   "source": [
    "eopatch = EOPatch.load(f'{eopatches_dir}eopatch_20', lazy_loading=True)"
   ]
  },
  {
   "cell_type": "code",
   "execution_count": 10,
   "id": "162afeab-efa5-42b7-b8d9-020370c86454",
   "metadata": {
    "tags": []
   },
   "outputs": [
    {
     "data": {
      "text/plain": [
       "EOPatch(\n",
       "  bbox=BBox(((637440.0, 5178880.0), (640000.0, 5181440.0)), crs=CRS('32654'))\n",
       "  timestamps=[2018-03-14 01:26:50, ...]<length=8>\n",
       "  data={\n",
       "    10BANDS: FeatureIONumpy(/data/10BANDS.npy.gz)\n",
       "    BANDS: FeatureIONumpy(/data/BANDS.npy.gz)\n",
       "    CLP: FeatureIONumpy(/data/CLP.npy.gz)\n",
       "  }\n",
       "  mask_timeless={\n",
       "    2_GROUPS: FeatureIONumpy(/mask_timeless/2_GROUPS.npy.gz)\n",
       "  }\n",
       "  mask={\n",
       "    CLM: FeatureIONumpy(/mask/CLM.npy.gz)\n",
       "    IS_DATA: FeatureIONumpy(/mask/IS_DATA.npy.gz)\n",
       "    SCL: FeatureIONumpy(/mask/SCL.npy.gz)\n",
       "  }\n",
       "  vector_timeless={\n",
       "    5-2groups-32654: FeatureIOGeoDf(/vector_timeless/5-2groups-32654.gpkg.gz)\n",
       "  }\n",
       "  scalar={\n",
       "    COVERAGE: FeatureIONumpy(/scalar/COVERAGE.npy.gz)\n",
       "  }\n",
       ")"
      ]
     },
     "execution_count": 10,
     "metadata": {},
     "output_type": "execute_result"
    }
   ],
   "source": [
    "eopatch"
   ]
  },
  {
   "cell_type": "code",
   "execution_count": 34,
   "id": "662708e7-ed56-4650-8bfa-54f27b92bac3",
   "metadata": {
    "tags": []
   },
   "outputs": [],
   "source": []
  },
  {
   "cell_type": "markdown",
   "id": "43125d08-15f7-4117-821f-f36b000fe1d8",
   "metadata": {},
   "source": [
    "## Model"
   ]
  },
  {
   "cell_type": "code",
   "execution_count": null,
   "id": "3972964a-54ef-4b8d-9c17-fa2875af2a8e",
   "metadata": {},
   "outputs": [],
   "source": []
  },
  {
   "cell_type": "code",
   "execution_count": 6,
   "id": "b249ceb9-d0c1-44a6-962a-d16c19047513",
   "metadata": {},
   "outputs": [],
   "source": [
    "from datamodule_eolearn import GeoEOModule\n",
    "\n",
    "import torch\n",
    "torch.set_float32_matmul_precision('high')"
   ]
  },
  {
   "cell_type": "code",
   "execution_count": 7,
   "id": "ecc65ae8-24f7-4b0c-bab4-d8213c0b9bfc",
   "metadata": {
    "tags": []
   },
   "outputs": [],
   "source": [
    "import albumentations as A\n",
    "import albumentations.pytorch as AP\n",
    "\n",
    "transforms = A.Compose([\n",
    "    A.Flip(p=0.3),\n",
    "    A.ShiftScaleRotate(\n",
    "        shift_limit=(-0.0625, 0.0625), \n",
    "        scale_limit=0, #no scale\n",
    "        rotate_limit=(-90, 90), \n",
    "        p=0.5\n",
    "    ),\n",
    "    AP.ToTensorV2(transpose_mask=True),\n",
    "    ],\n",
    ")\n",
    "\n",
    "test_transform = A.Compose([\n",
    "    AP.ToTensorV2(transpose_mask=True),\n",
    "    ],\n",
    ")"
   ]
  },
  {
   "cell_type": "code",
   "execution_count": 9,
   "id": "5d335061-9187-43c7-baa0-412bf14ff091",
   "metadata": {
    "tags": []
   },
   "outputs": [],
   "source": [
    "all_dates = GeoEOModule(\n",
    "    transform = transforms,\n",
    "    test_transform = test_transform,\n",
    "    target_mask_name = '2groups',\n",
    "    train_eopatches_dir = eopatches_dir, \n",
    "    test_eopatches_dir = eopatches_dir_test, \n",
    "    predict_eopatches_dir = eopatches_dir_test, \n",
    "    train_eopatches_ids = [x for x in range(num_ids_train)],\n",
    "    test_eopatches_ids = [x for x in range(num_ids_test)],\n",
    "    predict_eopatches_ids = [x for x in range(num_ids_test)], \n",
    "    train_date_range = ['2018-01-01', '2018-12-31'],\n",
    "    test_date_range = ['2018-01-01', '2018-12-31'],\n",
    "    predict_date_range = ['2018-01-01', '2018-12-31'],\n",
    "    batch_size = 128,\n",
    "    num_workers = 1,\n",
    ")"
   ]
  },
  {
   "cell_type": "code",
   "execution_count": 12,
   "id": "3a43becc-b2eb-4a9a-9c34-8cbc5ef6db5d",
   "metadata": {
    "tags": []
   },
   "outputs": [
    {
     "name": "stdout",
     "output_type": "stream",
     "text": [
      "🤖: Setup data...\n",
      "🤖: Collecting all the time indices... Done.\n",
      "🤖: Generating mapping: idx -> (patch_id, time_id)... Elapsed time: 0.47 min\n",
      "Done.\n",
      "🤖: Loading all the patches and time frames into the memory... Done.\n",
      "Elapsed time: 4.20 min 🤖: Test stage.\n",
      "🤖: Test frames >>> 787\n",
      "🤖: #iterations in test dataloader: 7\n"
     ]
    },
    {
     "name": "stderr",
     "output_type": "stream",
     "text": [
      "/trinity/home/alina.smolina/.conda/envs/geotorch/lib/python3.10/site-packages/torch/utils/data/dataloader.py:554: UserWarning: This DataLoader will create 24 worker processes in total. Our suggested max number of worker in current system is 16, which is smaller than what this DataLoader is going to create. Please be aware that excessive worker creation might get DataLoader running slow or even freeze, lower the worker number to avoid potential slowness/freeze if necessary.\n",
      "  warnings.warn(_create_warning_msg(\n"
     ]
    }
   ],
   "source": [
    "all_dates.setup(stage='test')\n",
    "test_set = all_dates.test_dataloader()"
   ]
  },
  {
   "cell_type": "code",
   "execution_count": null,
   "id": "45cc7a49-3002-40c6-baaa-b9deaa1e5f1c",
   "metadata": {},
   "outputs": [],
   "source": []
  },
  {
   "cell_type": "code",
   "execution_count": 21,
   "id": "c2f5ddc0-48ee-442c-8902-b9a204269295",
   "metadata": {
    "collapsed": true,
    "jupyter": {
     "outputs_hidden": true
    },
    "tags": []
   },
   "outputs": [
    {
     "data": {
      "text/plain": [
       "SegModule(\n",
       "  (net): UNet(\n",
       "    (zero_layer): Conv2d(10, 32, kernel_size=(1, 1), stride=(1, 1))\n",
       "    (downsampling1): Sequential(\n",
       "      (0): Conv2d(32, 64, kernel_size=(3, 3), stride=(1, 1), padding=(1, 1), bias=False)\n",
       "      (1): BatchNorm2d(64, eps=1e-05, momentum=0.1, affine=True, track_running_stats=True)\n",
       "      (2): ReLU()\n",
       "      (3): Conv2d(64, 64, kernel_size=(3, 3), stride=(1, 1), padding=(1, 1), bias=False)\n",
       "      (4): BatchNorm2d(64, eps=1e-05, momentum=0.1, affine=True, track_running_stats=True)\n",
       "      (5): ReLU()\n",
       "    )\n",
       "    (downsampling_maxpool1): MaxPool2d(kernel_size=2, stride=2, padding=0, dilation=1, ceil_mode=False)\n",
       "    (downsampling2): Sequential(\n",
       "      (0): Conv2d(64, 128, kernel_size=(3, 3), stride=(1, 1), padding=(1, 1), bias=False)\n",
       "      (1): BatchNorm2d(128, eps=1e-05, momentum=0.1, affine=True, track_running_stats=True)\n",
       "      (2): ReLU()\n",
       "      (3): Conv2d(128, 128, kernel_size=(3, 3), stride=(1, 1), padding=(1, 1), bias=False)\n",
       "      (4): BatchNorm2d(128, eps=1e-05, momentum=0.1, affine=True, track_running_stats=True)\n",
       "      (5): ReLU()\n",
       "    )\n",
       "    (downsampling_maxpool2): MaxPool2d(kernel_size=2, stride=2, padding=0, dilation=1, ceil_mode=False)\n",
       "    (downsampling3): Sequential(\n",
       "      (0): Conv2d(128, 256, kernel_size=(3, 3), stride=(1, 1), padding=(1, 1), bias=False)\n",
       "      (1): BatchNorm2d(256, eps=1e-05, momentum=0.1, affine=True, track_running_stats=True)\n",
       "      (2): ReLU()\n",
       "      (3): Conv2d(256, 256, kernel_size=(3, 3), stride=(1, 1), padding=(1, 1), bias=False)\n",
       "      (4): BatchNorm2d(256, eps=1e-05, momentum=0.1, affine=True, track_running_stats=True)\n",
       "      (5): ReLU()\n",
       "    )\n",
       "    (downsampling_maxpool3): MaxPool2d(kernel_size=2, stride=2, padding=0, dilation=1, ceil_mode=False)\n",
       "    (downsampling4): Sequential(\n",
       "      (0): Conv2d(256, 512, kernel_size=(3, 3), stride=(1, 1), padding=(1, 1), bias=False)\n",
       "      (1): BatchNorm2d(512, eps=1e-05, momentum=0.1, affine=True, track_running_stats=True)\n",
       "      (2): ReLU()\n",
       "      (3): Conv2d(512, 512, kernel_size=(3, 3), stride=(1, 1), padding=(1, 1), bias=False)\n",
       "      (4): BatchNorm2d(512, eps=1e-05, momentum=0.1, affine=True, track_running_stats=True)\n",
       "      (5): ReLU()\n",
       "    )\n",
       "    (downsampling_maxpool4): MaxPool2d(kernel_size=2, stride=2, padding=0, dilation=1, ceil_mode=False)\n",
       "    (bottleneck): Sequential(\n",
       "      (0): Conv2d(512, 512, kernel_size=(3, 3), stride=(1, 1), padding=(1, 1), bias=False)\n",
       "      (1): BatchNorm2d(512, eps=1e-05, momentum=0.1, affine=True, track_running_stats=True)\n",
       "      (2): ReLU()\n",
       "      (3): Conv2d(512, 512, kernel_size=(3, 3), stride=(1, 1), padding=(1, 1), bias=False)\n",
       "      (4): BatchNorm2d(512, eps=1e-05, momentum=0.1, affine=True, track_running_stats=True)\n",
       "      (5): ReLU()\n",
       "    )\n",
       "    (upsampling_conv4): ConvTranspose2d(512, 512, kernel_size=(3, 3), stride=(2, 2), padding=(1, 1), output_padding=(1, 1))\n",
       "    (upsampling4): Sequential(\n",
       "      (0): Dropout2d(p=0.5, inplace=True)\n",
       "      (1): Conv2d(1024, 256, kernel_size=(3, 3), stride=(1, 1), padding=(1, 1), bias=False)\n",
       "      (2): BatchNorm2d(256, eps=1e-05, momentum=0.1, affine=True, track_running_stats=True)\n",
       "      (3): ReLU()\n",
       "      (4): Conv2d(256, 256, kernel_size=(3, 3), stride=(1, 1), padding=(1, 1), bias=False)\n",
       "      (5): BatchNorm2d(256, eps=1e-05, momentum=0.1, affine=True, track_running_stats=True)\n",
       "      (6): ReLU()\n",
       "    )\n",
       "    (upsampling_conv3): ConvTranspose2d(256, 256, kernel_size=(3, 3), stride=(2, 2), padding=(1, 1), output_padding=(1, 1))\n",
       "    (upsampling3): Sequential(\n",
       "      (0): Dropout2d(p=0.5, inplace=True)\n",
       "      (1): Conv2d(512, 128, kernel_size=(3, 3), stride=(1, 1), padding=(1, 1), bias=False)\n",
       "      (2): BatchNorm2d(128, eps=1e-05, momentum=0.1, affine=True, track_running_stats=True)\n",
       "      (3): ReLU()\n",
       "      (4): Conv2d(128, 128, kernel_size=(3, 3), stride=(1, 1), padding=(1, 1), bias=False)\n",
       "      (5): BatchNorm2d(128, eps=1e-05, momentum=0.1, affine=True, track_running_stats=True)\n",
       "      (6): ReLU()\n",
       "    )\n",
       "    (upsampling_conv2): ConvTranspose2d(128, 128, kernel_size=(3, 3), stride=(2, 2), padding=(1, 1), output_padding=(1, 1))\n",
       "    (upsampling2): Sequential(\n",
       "      (0): Dropout2d(p=0.5, inplace=True)\n",
       "      (1): Conv2d(256, 64, kernel_size=(3, 3), stride=(1, 1), padding=(1, 1), bias=False)\n",
       "      (2): BatchNorm2d(64, eps=1e-05, momentum=0.1, affine=True, track_running_stats=True)\n",
       "      (3): ReLU()\n",
       "      (4): Conv2d(64, 64, kernel_size=(3, 3), stride=(1, 1), padding=(1, 1), bias=False)\n",
       "      (5): BatchNorm2d(64, eps=1e-05, momentum=0.1, affine=True, track_running_stats=True)\n",
       "      (6): ReLU()\n",
       "    )\n",
       "    (upsampling_conv1): ConvTranspose2d(64, 64, kernel_size=(3, 3), stride=(2, 2), padding=(1, 1), output_padding=(1, 1))\n",
       "    (upsampling1): Sequential(\n",
       "      (0): Dropout2d(p=0.5, inplace=True)\n",
       "      (1): Conv2d(128, 32, kernel_size=(3, 3), stride=(1, 1), padding=(1, 1), bias=False)\n",
       "      (2): BatchNorm2d(32, eps=1e-05, momentum=0.1, affine=True, track_running_stats=True)\n",
       "      (3): ReLU()\n",
       "      (4): Conv2d(32, 32, kernel_size=(3, 3), stride=(1, 1), padding=(1, 1), bias=False)\n",
       "      (5): BatchNorm2d(32, eps=1e-05, momentum=0.1, affine=True, track_running_stats=True)\n",
       "      (6): ReLU()\n",
       "    )\n",
       "    (last_layer): Sequential(\n",
       "      (0): Conv2d(32, 2, kernel_size=(1, 1), stride=(1, 1))\n",
       "      (1): Sigmoid()\n",
       "    )\n",
       "  )\n",
       "  (loss_fn): CrossEntropyLoss_notmasked()\n",
       "  (train_precision): ClasswiseWrapper(\n",
       "    (metric): MulticlassPrecision()\n",
       "  )\n",
       "  (train_recall): ClasswiseWrapper(\n",
       "    (metric): MulticlassRecall()\n",
       "  )\n",
       "  (train_f1score): ClasswiseWrapper(\n",
       "    (metric): MulticlassF1Score()\n",
       "  )\n",
       "  (train_mean_acc): MulticlassAccuracy()\n",
       "  (val_conf_matrix): MulticlassConfusionMatrix()\n",
       "  (val_precision): ClasswiseWrapper(\n",
       "    (metric): MulticlassPrecision()\n",
       "  )\n",
       "  (val_recall): ClasswiseWrapper(\n",
       "    (metric): MulticlassRecall()\n",
       "  )\n",
       "  (val_f1score): ClasswiseWrapper(\n",
       "    (metric): MulticlassF1Score()\n",
       "  )\n",
       "  (val_mean_acc): MulticlassAccuracy()\n",
       "  (test_conf_matrix): MulticlassConfusionMatrix()\n",
       "  (test_precision): ClasswiseWrapper(\n",
       "    (metric): MulticlassPrecision()\n",
       "  )\n",
       "  (test_recall): ClasswiseWrapper(\n",
       "    (metric): MulticlassRecall()\n",
       "  )\n",
       "  (test_f1score): ClasswiseWrapper(\n",
       "    (metric): MulticlassF1Score()\n",
       "  )\n",
       "  (test_mean_acc): MulticlassAccuracy()\n",
       ")"
      ]
     },
     "execution_count": 21,
     "metadata": {},
     "output_type": "execute_result"
    }
   ],
   "source": [
    "from module import SegModule\n",
    "\n",
    "model_inference = SegModule.load_from_checkpoint(\n",
    "    \"/beegfs/home/alina.smolina/DL-pipeline/weights/group-2classes-sakhalin/lucky-mountain-3/epoch=169-val_loss=0.0000.ckpt\"\n",
    "    # \"/beegfs/home/alina.smolina/DL-pipeline/weights/group-2groups-sakhalin/glamorous-spaceship-8/epoch=499-val_loss=0.00000.ckpt\"\n",
    ")\n",
    "model_inference.eval()"
   ]
  },
  {
   "cell_type": "code",
   "execution_count": 19,
   "id": "c0413be6-cfaa-4cf6-a07e-0d6d972264c0",
   "metadata": {
    "tags": []
   },
   "outputs": [
    {
     "name": "stdout",
     "output_type": "stream",
     "text": [
      "torch.Size([128, 10, 256, 256])\n"
     ]
    }
   ],
   "source": [
    "for batch in test_set:\n",
    "    data, mask, _ = batch\n",
    "    print(data.shape)\n",
    "    print()\n",
    "    break"
   ]
  },
  {
   "cell_type": "code",
   "execution_count": 22,
   "id": "b988d356-13b0-4d71-b905-b7162843093e",
   "metadata": {
    "tags": []
   },
   "outputs": [
    {
     "data": {
      "text/plain": [
       "torch.Size([10, 256, 256])"
      ]
     },
     "execution_count": 22,
     "metadata": {},
     "output_type": "execute_result"
    }
   ],
   "source": [
    "data[0].shape"
   ]
  },
  {
   "cell_type": "code",
   "execution_count": 14,
   "id": "b0d6bd71-fa54-4c6d-9b1f-de493983b86c",
   "metadata": {
    "tags": []
   },
   "outputs": [
    {
     "name": "stdout",
     "output_type": "stream",
     "text": [
      "🤖: Collecting all the time indices... "
     ]
    },
    {
     "ename": "KeyboardInterrupt",
     "evalue": "",
     "output_type": "error",
     "traceback": [
      "\u001b[0;31m---------------------------------------------------------------------------\u001b[0m",
      "\u001b[0;31mKeyboardInterrupt\u001b[0m                         Traceback (most recent call last)",
      "Cell \u001b[0;32mIn[14], line 3\u001b[0m\n\u001b[1;32m      1\u001b[0m \u001b[38;5;28;01mfrom\u001b[39;00m \u001b[38;5;21;01mdatamodule_eolearn\u001b[39;00m \u001b[38;5;28;01mimport\u001b[39;00m EOLearnDataset\n\u001b[0;32m----> 3\u001b[0m eo_ds_test \u001b[38;5;241m=\u001b[39m \u001b[43mEOLearnDataset\u001b[49m\u001b[43m(\u001b[49m\n\u001b[1;32m      4\u001b[0m \u001b[43m    \u001b[49m\u001b[43mtransform\u001b[49m\u001b[43m \u001b[49m\u001b[38;5;241;43m=\u001b[39;49m\u001b[43m \u001b[49m\u001b[43mtest_transform\u001b[49m\u001b[43m,\u001b[49m\n\u001b[1;32m      5\u001b[0m \u001b[43m    \u001b[49m\u001b[43meopatches_dir\u001b[49m\u001b[43m \u001b[49m\u001b[38;5;241;43m=\u001b[39;49m\u001b[43m \u001b[49m\u001b[43meopatches_dir_test\u001b[49m\u001b[43m,\u001b[49m\n\u001b[1;32m      6\u001b[0m \u001b[43m    \u001b[49m\u001b[43meopatches_ids\u001b[49m\u001b[43m \u001b[49m\u001b[38;5;241;43m=\u001b[39;49m\u001b[43m \u001b[49m\u001b[43m[\u001b[49m\u001b[43mx\u001b[49m\u001b[43m \u001b[49m\u001b[38;5;28;43;01mfor\u001b[39;49;00m\u001b[43m \u001b[49m\u001b[43mx\u001b[49m\u001b[43m \u001b[49m\u001b[38;5;129;43;01min\u001b[39;49;00m\u001b[43m \u001b[49m\u001b[38;5;28;43mrange\u001b[39;49m\u001b[43m(\u001b[49m\u001b[43mnum_ids_test\u001b[49m\u001b[43m)\u001b[49m\u001b[43m]\u001b[49m\u001b[43m,\u001b[49m\n\u001b[1;32m      7\u001b[0m \u001b[43m    \u001b[49m\u001b[43mdate_range\u001b[49m\u001b[43m \u001b[49m\u001b[38;5;241;43m=\u001b[39;49m\u001b[43m \u001b[49m\u001b[43m[\u001b[49m\u001b[38;5;124;43m'\u001b[39;49m\u001b[38;5;124;43m2018-01-01\u001b[39;49m\u001b[38;5;124;43m'\u001b[39;49m\u001b[43m,\u001b[49m\u001b[43m \u001b[49m\u001b[38;5;124;43m'\u001b[39;49m\u001b[38;5;124;43m2018-12-31\u001b[39;49m\u001b[38;5;124;43m'\u001b[39;49m\u001b[43m]\u001b[49m\u001b[43m,\u001b[49m\n\u001b[1;32m      8\u001b[0m \u001b[43m    \u001b[49m\u001b[43mtarget_mask_name\u001b[49m\u001b[43m \u001b[49m\u001b[38;5;241;43m=\u001b[39;49m\u001b[43m \u001b[49m\u001b[38;5;124;43m'\u001b[39;49m\u001b[38;5;124;43m2groups\u001b[39;49m\u001b[38;5;124;43m'\u001b[39;49m\u001b[43m,\u001b[49m\n\u001b[1;32m      9\u001b[0m \u001b[43m    \u001b[49m\u001b[43mdemand_target\u001b[49m\u001b[43m \u001b[49m\u001b[38;5;241;43m=\u001b[39;49m\u001b[43m \u001b[49m\u001b[38;5;28;43;01mTrue\u001b[39;49;00m\u001b[43m,\u001b[49m\n\u001b[1;32m     10\u001b[0m \u001b[43m)\u001b[49m\n",
      "File \u001b[0;32m/home/alina.smolina/DL-pipeline/src/datamodule_eolearn.py:43\u001b[0m, in \u001b[0;36mEOLearnDataset.__init__\u001b[0;34m(self, transform, eopatches_dir, eopatches_ids, date_range, target_mask_name, demand_target)\u001b[0m\n\u001b[1;32m     41\u001b[0m \u001b[38;5;28;01mfor\u001b[39;00m eopatch_id \u001b[38;5;129;01min\u001b[39;00m \u001b[38;5;28mself\u001b[39m\u001b[38;5;241m.\u001b[39meopatches_ids:\n\u001b[1;32m     42\u001b[0m     eopatch \u001b[38;5;241m=\u001b[39m EOPatch\u001b[38;5;241m.\u001b[39mload(\u001b[38;5;124mf\u001b[39m\u001b[38;5;124m'\u001b[39m\u001b[38;5;132;01m{\u001b[39;00m\u001b[38;5;28mself\u001b[39m\u001b[38;5;241m.\u001b[39meopatches_dir\u001b[38;5;132;01m}\u001b[39;00m\u001b[38;5;124meopatch_\u001b[39m\u001b[38;5;132;01m{\u001b[39;00meopatch_id\u001b[38;5;132;01m}\u001b[39;00m\u001b[38;5;124m'\u001b[39m, lazy_loading\u001b[38;5;241m=\u001b[39m\u001b[38;5;28;01mTrue\u001b[39;00m)\n\u001b[0;32m---> 43\u001b[0m     eopatch \u001b[38;5;241m=\u001b[39m \u001b[43meopatch\u001b[49m\u001b[38;5;241;43m.\u001b[39;49m\u001b[43mtemporal_subset\u001b[49m\u001b[43m(\u001b[49m\u001b[38;5;28;43;01mlambda\u001b[39;49;00m\u001b[43m \u001b[49m\u001b[43mtimes\u001b[49m\u001b[43m:\u001b[49m\u001b[43m \u001b[49m\u001b[43m[\u001b[49m\u001b[43mdate1\u001b[49m\u001b[43m \u001b[49m\u001b[38;5;241;43m<\u001b[39;49m\u001b[43m \u001b[49m\u001b[43mt\u001b[49m\u001b[43m \u001b[49m\u001b[38;5;241;43m<\u001b[39;49m\u001b[43m \u001b[49m\u001b[43mdate2\u001b[49m\u001b[43m \u001b[49m\u001b[38;5;28;43;01mfor\u001b[39;49;00m\u001b[43m \u001b[49m\u001b[43mt\u001b[49m\u001b[43m \u001b[49m\u001b[38;5;129;43;01min\u001b[39;49;00m\u001b[43m \u001b[49m\u001b[43mtimes\u001b[49m\u001b[43m]\u001b[49m\u001b[43m)\u001b[49m\n\u001b[1;32m     44\u001b[0m     count_timestamps[eopatch_id] \u001b[38;5;241m=\u001b[39m \u001b[38;5;28mlen\u001b[39m(eopatch\u001b[38;5;241m.\u001b[39mtimestamps)\n\u001b[1;32m     45\u001b[0m \u001b[38;5;28mself\u001b[39m\u001b[38;5;241m.\u001b[39mcount_timestamps \u001b[38;5;241m=\u001b[39m count_timestamps\n",
      "File \u001b[0;32m~/.conda/envs/geotorch/lib/python3.10/site-packages/eolearn/core/eodata.py:771\u001b[0m, in \u001b[0;36mEOPatch.temporal_subset\u001b[0;34m(self, timestamps)\u001b[0m\n\u001b[1;32m    769\u001b[0m \u001b[38;5;28;01mfor\u001b[39;00m ftype, fname \u001b[38;5;129;01min\u001b[39;00m \u001b[38;5;28mself\u001b[39m\u001b[38;5;241m.\u001b[39mget_features():\n\u001b[1;32m    770\u001b[0m     \u001b[38;5;28;01mif\u001b[39;00m ftype\u001b[38;5;241m.\u001b[39mis_timeless() \u001b[38;5;129;01mor\u001b[39;00m ftype\u001b[38;5;241m.\u001b[39mis_meta():\n\u001b[0;32m--> 771\u001b[0m         new_patch[ftype, fname] \u001b[38;5;241m=\u001b[39m \u001b[38;5;28;43mself\u001b[39;49m\u001b[43m[\u001b[49m\u001b[43mftype\u001b[49m\u001b[43m,\u001b[49m\u001b[43m \u001b[49m\u001b[43mfname\u001b[49m\u001b[43m]\u001b[49m\n\u001b[1;32m    772\u001b[0m     \u001b[38;5;28;01melif\u001b[39;00m ftype\u001b[38;5;241m.\u001b[39mis_vector():\n\u001b[1;32m    773\u001b[0m         gdf: gpd\u001b[38;5;241m.\u001b[39mGeoDataFrame \u001b[38;5;241m=\u001b[39m \u001b[38;5;28mself\u001b[39m[ftype, fname]\n",
      "File \u001b[0;32m~/.conda/envs/geotorch/lib/python3.10/site-packages/eolearn/core/eodata.py:384\u001b[0m, in \u001b[0;36mEOPatch.__getitem__\u001b[0;34m(self, key)\u001b[0m\n\u001b[1;32m    382\u001b[0m \u001b[38;5;28;01mif\u001b[39;00m feature_name \u001b[38;5;129;01mnot\u001b[39;00m \u001b[38;5;129;01min\u001b[39;00m (\u001b[38;5;28;01mNone\u001b[39;00m, \u001b[38;5;28mEllipsis\u001b[39m) \u001b[38;5;129;01mand\u001b[39;00m \u001b[38;5;28misinstance\u001b[39m(value, _FeatureDict):\n\u001b[1;32m    383\u001b[0m     feature_name \u001b[38;5;241m=\u001b[39m cast(\u001b[38;5;28mstr\u001b[39m, feature_name)  \u001b[38;5;66;03m# the above check deals with ... and None\u001b[39;00m\n\u001b[0;32m--> 384\u001b[0m     \u001b[38;5;28;01mreturn\u001b[39;00m \u001b[43mvalue\u001b[49m\u001b[43m[\u001b[49m\u001b[43mfeature_name\u001b[49m\u001b[43m]\u001b[49m\n\u001b[1;32m    385\u001b[0m \u001b[38;5;28;01mreturn\u001b[39;00m value\n",
      "File \u001b[0;32m~/.conda/envs/geotorch/lib/python3.10/site-packages/eolearn/core/eodata.py:115\u001b[0m, in \u001b[0;36m_FeatureDict.__getitem__\u001b[0;34m(self, feature_name)\u001b[0m\n\u001b[1;32m    113\u001b[0m \u001b[38;5;28;01mif\u001b[39;00m \u001b[38;5;28misinstance\u001b[39m(value, FeatureIO):\n\u001b[1;32m    114\u001b[0m     value \u001b[38;5;241m=\u001b[39m cast(FeatureIO[T], value)  \u001b[38;5;66;03m# not sure why mypy borks this one\u001b[39;00m\n\u001b[0;32m--> 115\u001b[0m     value \u001b[38;5;241m=\u001b[39m \u001b[43mvalue\u001b[49m\u001b[38;5;241;43m.\u001b[39;49m\u001b[43mload\u001b[49m\u001b[43m(\u001b[49m\u001b[43m)\u001b[49m\n\u001b[1;32m    116\u001b[0m     \u001b[38;5;28mself\u001b[39m\u001b[38;5;241m.\u001b[39m_content[feature_name] \u001b[38;5;241m=\u001b[39m value\n\u001b[1;32m    118\u001b[0m \u001b[38;5;28;01mreturn\u001b[39;00m value\n",
      "File \u001b[0;32m~/.conda/envs/geotorch/lib/python3.10/site-packages/eolearn/core/eodata_io.py:540\u001b[0m, in \u001b[0;36mFeatureIO.load\u001b[0;34m(self)\u001b[0m\n\u001b[1;32m    536\u001b[0m \u001b[38;5;250m\u001b[39m\u001b[38;5;124;03m\"\"\"Method for loading a feature. The loaded value is stored into an attribute in case a second load request is\u001b[39;00m\n\u001b[1;32m    537\u001b[0m \u001b[38;5;124;03mtriggered inside a shallow-copied EOPatch.\u001b[39;00m\n\u001b[1;32m    538\u001b[0m \u001b[38;5;124;03m\"\"\"\u001b[39;00m\n\u001b[1;32m    539\u001b[0m \u001b[38;5;28;01mif\u001b[39;00m \u001b[38;5;28mself\u001b[39m\u001b[38;5;241m.\u001b[39mloaded_value \u001b[38;5;129;01mis\u001b[39;00m \u001b[38;5;28;01mNone\u001b[39;00m:\n\u001b[0;32m--> 540\u001b[0m     \u001b[38;5;28mself\u001b[39m\u001b[38;5;241m.\u001b[39mloaded_value \u001b[38;5;241m=\u001b[39m \u001b[38;5;28;43mself\u001b[39;49m\u001b[38;5;241;43m.\u001b[39;49m\u001b[43m_load_value\u001b[49m\u001b[43m(\u001b[49m\u001b[43m)\u001b[49m\n\u001b[1;32m    542\u001b[0m \u001b[38;5;28;01mreturn\u001b[39;00m \u001b[38;5;28mself\u001b[39m\u001b[38;5;241m.\u001b[39mloaded_value\n",
      "File \u001b[0;32m~/.conda/envs/geotorch/lib/python3.10/site-packages/eolearn/core/eodata_io.py:581\u001b[0m, in \u001b[0;36mFeatureIOGZip._load_value\u001b[0;34m(self)\u001b[0m\n\u001b[1;32m    580\u001b[0m \u001b[38;5;28;01mdef\u001b[39;00m \u001b[38;5;21m_load_value\u001b[39m(\u001b[38;5;28mself\u001b[39m) \u001b[38;5;241m-\u001b[39m\u001b[38;5;241m>\u001b[39m T:\n\u001b[0;32m--> 581\u001b[0m     \u001b[38;5;28;01mwith\u001b[39;00m \u001b[38;5;28;43mself\u001b[39;49m\u001b[38;5;241;43m.\u001b[39;49m\u001b[43mfilesystem\u001b[49m\u001b[38;5;241;43m.\u001b[39;49m\u001b[43mopenbin\u001b[49m\u001b[43m(\u001b[49m\u001b[38;5;28;43mself\u001b[39;49m\u001b[38;5;241;43m.\u001b[39;49m\u001b[43mpath\u001b[49m\u001b[43m,\u001b[49m\u001b[43m \u001b[49m\u001b[38;5;124;43m\"\u001b[39;49m\u001b[38;5;124;43mr\u001b[39;49m\u001b[38;5;124;43m\"\u001b[39;49m\u001b[43m)\u001b[49m \u001b[38;5;28;01mas\u001b[39;00m file_handle:\n\u001b[1;32m    582\u001b[0m         \u001b[38;5;28;01mif\u001b[39;00m MimeType\u001b[38;5;241m.\u001b[39mGZIP\u001b[38;5;241m.\u001b[39mmatches_extension(\u001b[38;5;28mself\u001b[39m\u001b[38;5;241m.\u001b[39mpath):\n\u001b[1;32m    583\u001b[0m             \u001b[38;5;28;01mwith\u001b[39;00m gzip\u001b[38;5;241m.\u001b[39mopen(file_handle, \u001b[38;5;124m\"\u001b[39m\u001b[38;5;124mrb\u001b[39m\u001b[38;5;124m\"\u001b[39m) \u001b[38;5;28;01mas\u001b[39;00m gzip_fp:\n",
      "File \u001b[0;32m~/.conda/envs/geotorch/lib/python3.10/site-packages/fs/osfs.py:356\u001b[0m, in \u001b[0;36mOSFS.openbin\u001b[0;34m(self, path, mode, buffering, **options)\u001b[0m\n\u001b[1;32m    354\u001b[0m     \u001b[38;5;28;01mif\u001b[39;00m six\u001b[38;5;241m.\u001b[39mPY2 \u001b[38;5;129;01mand\u001b[39;00m _mode\u001b[38;5;241m.\u001b[39mexclusive:\n\u001b[1;32m    355\u001b[0m         sys_path \u001b[38;5;241m=\u001b[39m os\u001b[38;5;241m.\u001b[39mopen(sys_path, os\u001b[38;5;241m.\u001b[39mO_RDWR \u001b[38;5;241m|\u001b[39m os\u001b[38;5;241m.\u001b[39mO_CREAT \u001b[38;5;241m|\u001b[39m os\u001b[38;5;241m.\u001b[39mO_EXCL)\n\u001b[0;32m--> 356\u001b[0m     binary_file \u001b[38;5;241m=\u001b[39m \u001b[43mio\u001b[49m\u001b[38;5;241;43m.\u001b[39;49m\u001b[43mopen\u001b[49m\u001b[43m(\u001b[49m\n\u001b[1;32m    357\u001b[0m \u001b[43m        \u001b[49m\u001b[43msys_path\u001b[49m\u001b[43m,\u001b[49m\u001b[43m \u001b[49m\u001b[43mmode\u001b[49m\u001b[38;5;241;43m=\u001b[39;49m\u001b[43m_mode\u001b[49m\u001b[38;5;241;43m.\u001b[39;49m\u001b[43mto_platform_bin\u001b[49m\u001b[43m(\u001b[49m\u001b[43m)\u001b[49m\u001b[43m,\u001b[49m\u001b[43m \u001b[49m\u001b[43mbuffering\u001b[49m\u001b[38;5;241;43m=\u001b[39;49m\u001b[43mbuffering\u001b[49m\u001b[43m,\u001b[49m\u001b[43m \u001b[49m\u001b[38;5;241;43m*\u001b[39;49m\u001b[38;5;241;43m*\u001b[39;49m\u001b[43moptions\u001b[49m\n\u001b[1;32m    358\u001b[0m \u001b[43m    \u001b[49m\u001b[43m)\u001b[49m\n\u001b[1;32m    359\u001b[0m \u001b[38;5;28;01mreturn\u001b[39;00m binary_file\n",
      "\u001b[0;31mKeyboardInterrupt\u001b[0m: "
     ]
    }
   ],
   "source": [
    "from datamodule_eolearn import EOLearnDataset\n",
    "\n",
    "eo_ds_test = EOLearnDataset(\n",
    "    transform = test_transform,\n",
    "    eopatches_dir = eopatches_dir_test,\n",
    "    eopatches_ids = [x for x in range(num_ids_test)],\n",
    "    date_range = ['2018-01-01', '2018-12-31'],\n",
    "    target_mask_name = '2groups',\n",
    "    demand_target = True,\n",
    ")"
   ]
  },
  {
   "cell_type": "code",
   "execution_count": null,
   "id": "a1879ef3-7047-4421-b659-6a44d0678079",
   "metadata": {},
   "outputs": [],
   "source": [
    "eo_ds_test"
   ]
  },
  {
   "cell_type": "code",
   "execution_count": null,
   "id": "ba45074b-01fd-4bb2-864a-d1cdba09f3ff",
   "metadata": {},
   "outputs": [],
   "source": []
  },
  {
   "cell_type": "code",
   "execution_count": null,
   "id": "9bb6a331-942c-4c02-8263-f531fe29aef2",
   "metadata": {},
   "outputs": [],
   "source": []
  },
  {
   "cell_type": "code",
   "execution_count": null,
   "id": "9b988927-6d96-43d7-bcb6-915e1c59fb8b",
   "metadata": {},
   "outputs": [],
   "source": []
  },
  {
   "cell_type": "code",
   "execution_count": 11,
   "id": "0a8dbbb7-b6f4-495d-bdbd-341b688b259b",
   "metadata": {
    "tags": []
   },
   "outputs": [],
   "source": [
    "import wandb\n",
    "import pytorch_lightning as pl\n",
    "from module import SegModule"
   ]
  },
  {
   "cell_type": "code",
   "execution_count": 28,
   "id": "2e04f434-bb48-4cf4-b85d-e76f892b77e8",
   "metadata": {
    "tags": []
   },
   "outputs": [
    {
     "name": "stderr",
     "output_type": "stream",
     "text": [
      "/trinity/home/alina.smolina/.conda/envs/geotorch/lib/python3.10/site-packages/pytorch_lightning/loggers/wandb.py:398: UserWarning: There is a wandb run already in progress and newly created instances of `WandbLogger` will reuse this run. If this is not desired, call `wandb.finish()` before instantiating `WandbLogger`.\n",
      "  rank_zero_warn(\n",
      "/trinity/home/alina.smolina/.conda/envs/geotorch/lib/python3.10/site-packages/lightning_fabric/plugins/environments/slurm.py:168: PossibleUserWarning: The `srun` command is available on your system but is not used. HINT: If your intention is to run Lightning on SLURM, prepend your python command with `srun` like so: srun python /trinity/home/alina.smolina/.conda/envs/geotorch/lib ...\n",
      "  rank_zero_warn(\n",
      "GPU available: True (cuda), used: True\n",
      "TPU available: False, using: 0 TPU cores\n",
      "IPU available: False, using: 0 IPUs\n",
      "HPU available: False, using: 0 HPUs\n"
     ]
    },
    {
     "name": "stdout",
     "output_type": "stream",
     "text": [
      "🤖: Look at https://wandb.ai/nali/dl-pipeline-sakhalin-2groups/runs/u2mv29fz\n"
     ]
    }
   ],
   "source": [
    "from pytorch_lightning.loggers import WandbLogger\n",
    "import os\n",
    "os.environ[\"WANDB__SERVICE_WAIT\"] = \"500\"\n",
    "\n",
    "wandb_logger = WandbLogger(project='dl-pipeline-sakhalin', log_model=True)\n",
    "print(f'🤖: Look at {wandb.run.url}')\n",
    "\n",
    "trainer = pl.Trainer(\n",
    "    logger=wandb_logger,\n",
    ")"
   ]
  },
  {
   "cell_type": "code",
   "execution_count": 32,
   "id": "d8947c9c-fced-44f5-bbc0-700e9b6ba451",
   "metadata": {
    "tags": []
   },
   "outputs": [
    {
     "name": "stderr",
     "output_type": "stream",
     "text": [
      "/trinity/home/alina.smolina/.conda/envs/geotorch/lib/python3.10/site-packages/lightning_fabric/plugins/environments/slurm.py:168: PossibleUserWarning: The `srun` command is available on your system but is not used. HINT: If your intention is to run Lightning on SLURM, prepend your python command with `srun` like so: srun python /trinity/home/alina.smolina/.conda/envs/geotorch/lib ...\n",
      "  rank_zero_warn(\n"
     ]
    },
    {
     "name": "stdout",
     "output_type": "stream",
     "text": [
      "🤖: Setup data...\n",
      "🤖: Collecting all the time indices... Done.\n",
      "🤖: Generating mapping: idx -> (patch_id, time_id)... Elapsed time: 0.55 min\n",
      "Done.\n",
      "🤖: Loading all the patches and time frames into the memory... "
     ]
    },
    {
     "name": "stderr",
     "output_type": "stream",
     "text": [
      "LOCAL_RANK: 0 - CUDA_VISIBLE_DEVICES: [0]\n"
     ]
    },
    {
     "name": "stdout",
     "output_type": "stream",
     "text": [
      "Done.\n",
      "Elapsed time: 4.42 min 🤖: Test stage.\n",
      "🤖: Test frames >>> 787\n",
      "🤖: #iterations in test dataloader: 7\n"
     ]
    },
    {
     "name": "stderr",
     "output_type": "stream",
     "text": [
      "/trinity/home/alina.smolina/.conda/envs/geotorch/lib/python3.10/site-packages/torch/utils/data/dataloader.py:554: UserWarning: This DataLoader will create 24 worker processes in total. Our suggested max number of worker in current system is 16, which is smaller than what this DataLoader is going to create. Please be aware that excessive worker creation might get DataLoader running slow or even freeze, lower the worker number to avoid potential slowness/freeze if necessary.\n",
      "  warnings.warn(_create_warning_msg(\n"
     ]
    },
    {
     "data": {
      "application/vnd.jupyter.widget-view+json": {
       "model_id": "b54046cfc64744a3a8715ca0defffb16",
       "version_major": 2,
       "version_minor": 0
      },
      "text/plain": [
       "Testing: 0it [00:00, ?it/s]"
      ]
     },
     "metadata": {},
     "output_type": "display_data"
    },
    {
     "name": "stdout",
     "output_type": "stream",
     "text": [
      "────────────────────────────────────────────────────────────────────────────────────────────────────────────────────────\n",
      "       Test metric             DataLoader 0\n",
      "────────────────────────────────────────────────────────────────────────────────────────────────────────────────────────\n",
      " test/f1score_лиственные    0.6971182227134705\n",
      "  test/f1score_хвойные      0.7202945351600647\n",
      "      test/mean_acc         0.7086091041564941\n",
      "test/precision_лиственные   0.7056609392166138\n",
      " test/precision_хвойные     0.7123309373855591\n",
      " test/recall_лиственные     0.6887799501419067\n",
      "   test/recall_хвойные      0.7284381985664368\n",
      "────────────────────────────────────────────────────────────────────────────────────────────────────────────────────────\n"
     ]
    },
    {
     "data": {
      "text/plain": [
       "[{'test/mean_acc': 0.7086091041564941,\n",
       "  'test/precision_лиственные': 0.7056609392166138,\n",
       "  'test/precision_хвойные': 0.7123309373855591,\n",
       "  'test/recall_лиственные': 0.6887799501419067,\n",
       "  'test/recall_хвойные': 0.7284381985664368,\n",
       "  'test/f1score_лиственные': 0.6971182227134705,\n",
       "  'test/f1score_хвойные': 0.7202945351600647}]"
      ]
     },
     "execution_count": 32,
     "metadata": {},
     "output_type": "execute_result"
    }
   ],
   "source": [
    "model_inference.eval()\n",
    "trainer.test(model_inference, all_dates)"
   ]
  },
  {
   "cell_type": "code",
   "execution_count": null,
   "id": "cf098508-9273-4fbc-8f96-87a139e77f0f",
   "metadata": {},
   "outputs": [],
   "source": []
  },
  {
   "cell_type": "code",
   "execution_count": null,
   "id": "94f1837a-bdd0-46f8-8db8-98c1d06e0dc5",
   "metadata": {},
   "outputs": [],
   "source": []
  },
  {
   "cell_type": "code",
   "execution_count": 55,
   "id": "e161e91c-c083-4ecb-a73d-302b5d43e637",
   "metadata": {},
   "outputs": [
    {
     "name": "stdout",
     "output_type": "stream",
     "text": [
      "🤖: Setup data...\n",
      "🤖: Fit stage.\n",
      "🤖: Collecting all time indices... Done.\n",
      "🤖: Generating mapping: idx -> (patch_id, time_id)... Done.\n",
      "🤖: Fit stage.\n",
      "🤖: Fit frames >>> 1485\n",
      "🤖: Val frames >>> 371\n",
      "🤖: Total >>>>>>>> 1856\n",
      "🤖: #iterations in train dataloader: 62\n",
      "3\n",
      "torch.Size([24, 10, 256, 256])\n",
      "torch.Size([24, 256, 256])\n",
      "CPU times: user 22.7 s, sys: 1.93 s, total: 24.7 s\n",
      "Wall time: 4min 34s\n"
     ]
    },
    {
     "name": "stderr",
     "output_type": "stream",
     "text": [
      "[rank: 0] Received SIGTERM: 15\n",
      "[rank: 0] Received SIGTERM: 15\n",
      "[rank: 0] Received SIGTERM: 15\n",
      "[rank: 0] Received SIGTERM: 15\n",
      "[rank: 0] Received SIGTERM: 15\n",
      "[rank: 0] Received SIGTERM: 15\n"
     ]
    }
   ],
   "source": [
    "%%time\n",
    "uniq_vals = []\n",
    "# # for item in eo_ds:\n",
    "all_dates.setup(stage='fit')\n",
    "for item in all_dates.train_dataloader():\n",
    "    print(len(item))\n",
    "    print(item[0].shape)\n",
    "    print(item[1].shape)\n",
    "    uniq_vals.append(torch.unique(item[-1]).numpy())\n",
    "    break"
   ]
  },
  {
   "cell_type": "code",
   "execution_count": 53,
   "id": "0c1f95f8-d6f9-404f-bd20-8400b86fb409",
   "metadata": {
    "tags": []
   },
   "outputs": [
    {
     "name": "stdout",
     "output_type": "stream",
     "text": [
      "🤖: Setup data...\n",
      "🤖: Fit stage.\n",
      "🤖: Collecting all time indices... Done.\n",
      "🤖: Generating mapping: idx -> (patch_id, time_id)... Done.\n",
      "🤖: Fit stage.\n",
      "🤖: Fit frames >>> 1485\n",
      "🤖: Val frames >>> 371\n",
      "🤖: Total >>>>>>>> 1856\n",
      "🤖: #iterations in train dataloader: 62\n",
      "3\n",
      "torch.Size([24, 10, 256, 256])\n",
      "torch.Size([24, 256, 256])\n",
      "CPU times: user 22.7 s, sys: 1.03 s, total: 23.8 s\n",
      "Wall time: 37.3 s\n"
     ]
    }
   ],
   "source": [
    "%%time\n",
    "uniq_vals = []\n",
    "# # for item in eo_ds:\n",
    "all_dates.setup(stage='fit')\n",
    "for item in all_dates.train_dataloader():\n",
    "    print(len(item))\n",
    "    print(item[0].shape)\n",
    "    print(item[1].shape)\n",
    "    uniq_vals.append(torch.unique(item[-1]).numpy())\n",
    "    break"
   ]
  },
  {
   "cell_type": "code",
   "execution_count": null,
   "id": "9770df47-0fdd-4c31-bc05-7ce6d95098a8",
   "metadata": {},
   "outputs": [],
   "source": [
    "uniq_vals"
   ]
  },
  {
   "cell_type": "code",
   "execution_count": 20,
   "id": "477ac483-14a8-481f-ae9f-0d3bb24c333a",
   "metadata": {
    "tags": []
   },
   "outputs": [
    {
     "name": "stdout",
     "output_type": "stream",
     "text": [
      "🤖: Collecting all time indices...\n",
      "🤖: Done.\n"
     ]
    }
   ],
   "source": [
    "from datamodule_eolearn import EOLearnDataset\n",
    "\n",
    "eo_ds = EOLearnDataset(\n",
    "    transform = transforms,\n",
    "    eopatches_dir = eopatches_dir,\n",
    "    eopatches_ids = [x for x in range(69, 106)],\n",
    "    date_range = ['2018-01-01', '2018-12-31'],\n",
    "    target_mask_name = 'PREVAIL_GROUP_2',\n",
    "    demand_target = True,\n",
    ")"
   ]
  },
  {
   "cell_type": "code",
   "execution_count": 25,
   "id": "c6c3c59e-c3df-487a-9856-4eaf532ae769",
   "metadata": {
    "tags": []
   },
   "outputs": [
    {
     "name": "stdout",
     "output_type": "stream",
     "text": [
      "3\n",
      "torch.Size([10, 256, 256])\n",
      "torch.Size([256, 256])\n"
     ]
    }
   ],
   "source": [
    "for item in eo_ds:\n",
    "    print(len(item))\n",
    "    print(item[0].shape)\n",
    "    print(item[1].shape)\n",
    "    break"
   ]
  },
  {
   "cell_type": "code",
   "execution_count": null,
   "id": "cc4e3070-94b5-4e03-a6ea-d219bb37ae69",
   "metadata": {},
   "outputs": [],
   "source": []
  }
 ],
 "metadata": {
  "kernelspec": {
   "display_name": "Python 3 (ipykernel)",
   "language": "python",
   "name": "python3"
  },
  "language_info": {
   "codemirror_mode": {
    "name": "ipython",
    "version": 3
   },
   "file_extension": ".py",
   "mimetype": "text/x-python",
   "name": "python",
   "nbconvert_exporter": "python",
   "pygments_lexer": "ipython3",
   "version": "3.10.13"
  }
 },
 "nbformat": 4,
 "nbformat_minor": 5
}
